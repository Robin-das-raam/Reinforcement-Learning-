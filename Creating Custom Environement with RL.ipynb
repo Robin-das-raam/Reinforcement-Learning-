{
 "cells": [
  {
   "cell_type": "markdown",
   "id": "7d66984d",
   "metadata": {},
   "source": [
    "# Custom Environment with RL"
   ]
  },
  {
   "cell_type": "markdown",
   "id": "127ca205",
   "metadata": {},
   "source": [
    "## Import dependencies"
   ]
  },
  {
   "cell_type": "code",
   "execution_count": 2,
   "id": "a0f1d639",
   "metadata": {},
   "outputs": [],
   "source": [
    "import os\n",
    "import gym\n",
    "from gym import Env\n",
    "from gym.spaces import Box, Discrete, Tuple, Dict, MultiBinary, MultiDiscrete\n",
    "import numpy as np\n",
    "import random\n",
    "\n",
    "from stable_baselines3 import PPO\n",
    "from stable_baselines3.common.vec_env import VecFrameStack, DummyVecEnv\n",
    "from stable_baselines3.common.evaluation import evaluate_policy"
   ]
  },
  {
   "cell_type": "markdown",
   "id": "c6dceb57",
   "metadata": {},
   "source": [
    "# Types of Spaces"
   ]
  },
  {
   "cell_type": "markdown",
   "id": "2e207184",
   "metadata": {},
   "source": [
    "**There are six types of spaces supported by OpenAIgym**..\n",
    "\n",
    "**1. Box** - A n dimentional box where each co ordinate lies between a bound define by [low, high]\n",
    "\n",
    "**2. Discrete** - The space consists of n distinct points each mapped to an integer value in the interval[0, n-1]\n",
    "\n",
    "**3. Tuple** - Tuple is a product of sample space..\n",
    ">> **gym.spaces.Tuple((gym.spaces.Discrete(2), gym.spaces.Discrete(3))**\n",
    "\n",
    "**4. Dict** - A Dict of sample Spaces types to make a complex space..\n",
    ">> **gym.spaces.Dict({\"position\":gym.spaces.Discrete(2), \"velocity\":gym.spaces.Discrte(3)})**\n",
    "\n",
    "**5. MultiBinary** - Define an n-dimensional binary spaces where the argument to MultiBinary() defines the number of n Dimension..\n",
    ">> **gym.space.MultiBinary(6)**\n",
    "\n",
    "**6. MultiDiscrete** - Multi dimensionalDiscrete Space, consists of a series of discrete action spaces with different number of action in each.. Parameterized by passing an array of positive integer for the number of actions for each discrete action space..\n",
    ">> **gym.spaces.MultiDiscrete([5,2,3])**...\n"
   ]
  },
  {
   "cell_type": "code",
   "execution_count": 4,
   "id": "f7e2eb4b",
   "metadata": {},
   "outputs": [
    {
     "data": {
      "text/plain": [
       "Discrete(3)"
      ]
     },
     "execution_count": 4,
     "metadata": {},
     "output_type": "execute_result"
    }
   ],
   "source": [
    "Discrete(3)"
   ]
  },
  {
   "cell_type": "code",
   "execution_count": 8,
   "id": "dbef140b",
   "metadata": {},
   "outputs": [
    {
     "data": {
      "text/plain": [
       "1"
      ]
     },
     "execution_count": 8,
     "metadata": {},
     "output_type": "execute_result"
    }
   ],
   "source": [
    "Discrete(3).sample()"
   ]
  },
  {
   "cell_type": "code",
   "execution_count": 11,
   "id": "e102cbf1",
   "metadata": {},
   "outputs": [
    {
     "data": {
      "text/plain": [
       "Box([[0. 0. 0.]\n",
       " [0. 0. 0.]\n",
       " [0. 0. 0.]], [[1. 1. 1.]\n",
       " [1. 1. 1.]\n",
       " [1. 1. 1.]], (3, 3), float32)"
      ]
     },
     "execution_count": 11,
     "metadata": {},
     "output_type": "execute_result"
    }
   ],
   "source": [
    "Box(0,1,shape = (3,3))"
   ]
  },
  {
   "cell_type": "code",
   "execution_count": 9,
   "id": "25dc5774",
   "metadata": {},
   "outputs": [
    {
     "data": {
      "text/plain": [
       "array([[0.29917297, 0.68896836, 0.48935655],\n",
       "       [0.8216352 , 0.37601402, 0.24030143],\n",
       "       [0.5879358 , 0.07662372, 0.43027392]], dtype=float32)"
      ]
     },
     "execution_count": 9,
     "metadata": {},
     "output_type": "execute_result"
    }
   ],
   "source": [
    "Box(0,1, shape = (3,3)).sample()"
   ]
  },
  {
   "cell_type": "code",
   "execution_count": 13,
   "id": "6b2f2f5f",
   "metadata": {},
   "outputs": [
    {
     "data": {
      "text/plain": [
       "array([[ 49, 143],\n",
       "       [ 85, 226]])"
      ]
     },
     "execution_count": 13,
     "metadata": {},
     "output_type": "execute_result"
    }
   ],
   "source": [
    "Box(0,255, shape = (2,2),dtype = int).sample()"
   ]
  },
  {
   "cell_type": "code",
   "execution_count": 16,
   "id": "9578f3cc",
   "metadata": {},
   "outputs": [
    {
     "data": {
      "text/plain": [
       "Tuple(Box([[0. 0. 0.]\n",
       " [0. 0. 0.]\n",
       " [0. 0. 0.]], [[1. 1. 1.]\n",
       " [1. 1. 1.]\n",
       " [1. 1. 1.]], (3, 3), float32), Discrete(2))"
      ]
     },
     "execution_count": 16,
     "metadata": {},
     "output_type": "execute_result"
    }
   ],
   "source": [
    "Tuple((Box(0,1,shape = (3,3)), Discrete(2)))"
   ]
  },
  {
   "cell_type": "code",
   "execution_count": 19,
   "id": "fb99bbb1",
   "metadata": {},
   "outputs": [
    {
     "data": {
      "text/plain": [
       "(1,\n",
       " array([[1.2165664],\n",
       "        [1.1913924]], dtype=float32))"
      ]
     },
     "execution_count": 19,
     "metadata": {},
     "output_type": "execute_result"
    }
   ],
   "source": [
    "Tuple((Discrete(2), Box(1,2,shape = (2,1)))).sample()"
   ]
  },
  {
   "cell_type": "code",
   "execution_count": 21,
   "id": "4dd76fcb",
   "metadata": {},
   "outputs": [
    {
     "data": {
      "text/plain": [
       "Dict(Height:Discrete(2), Speed:Box([0.], [1.], (1,), float32))"
      ]
     },
     "execution_count": 21,
     "metadata": {},
     "output_type": "execute_result"
    }
   ],
   "source": [
    "Dict({\"Height\":Discrete(2), \"Speed\":Box(0,1,shape = (1,))})"
   ]
  },
  {
   "cell_type": "code",
   "execution_count": 22,
   "id": "25bff4d9",
   "metadata": {},
   "outputs": [
    {
     "data": {
      "text/plain": [
       "OrderedDict([('Height', 0), ('Speed', array([0.92578584], dtype=float32))])"
      ]
     },
     "execution_count": 22,
     "metadata": {},
     "output_type": "execute_result"
    }
   ],
   "source": [
    "Dict({\"Height\":Discrete(2), \"Speed\":Box(0,1,shape = (1,))}).sample()"
   ]
  },
  {
   "cell_type": "code",
   "execution_count": 23,
   "id": "1459b144",
   "metadata": {},
   "outputs": [
    {
     "data": {
      "text/plain": [
       "MultiBinary(5)"
      ]
     },
     "execution_count": 23,
     "metadata": {},
     "output_type": "execute_result"
    }
   ],
   "source": [
    "MultiBinary(5)"
   ]
  },
  {
   "cell_type": "code",
   "execution_count": 24,
   "id": "bf254cbd",
   "metadata": {},
   "outputs": [
    {
     "data": {
      "text/plain": [
       "array([1, 0, 0, 0, 0, 1], dtype=int8)"
      ]
     },
     "execution_count": 24,
     "metadata": {},
     "output_type": "execute_result"
    }
   ],
   "source": [
    "MultiBinary(6).sample()"
   ]
  },
  {
   "cell_type": "code",
   "execution_count": 25,
   "id": "3c4978e0",
   "metadata": {},
   "outputs": [
    {
     "data": {
      "text/plain": [
       "MultiDiscrete([4 4 3])"
      ]
     },
     "execution_count": 25,
     "metadata": {},
     "output_type": "execute_result"
    }
   ],
   "source": [
    "MultiDiscrete([4,4,3])"
   ]
  },
  {
   "cell_type": "code",
   "execution_count": 30,
   "id": "67632f71",
   "metadata": {},
   "outputs": [
    {
     "data": {
      "text/plain": [
       "array([2, 0, 0])"
      ]
     },
     "execution_count": 30,
     "metadata": {},
     "output_type": "execute_result"
    }
   ],
   "source": [
    "MultiDiscrete([4,5,1]).sample()"
   ]
  },
  {
   "cell_type": "markdown",
   "id": "d320ad74",
   "metadata": {},
   "source": [
    "# Building An Environment\n",
    "\n",
    "In this Environment we are gonna build an agent which gives us best shower possible..By Randomly choosen Tempareture ..Tempareture range will be 37 to 39 degree.."
   ]
  },
  {
   "cell_type": "code",
   "execution_count": 37,
   "id": "67369669",
   "metadata": {},
   "outputs": [],
   "source": [
    "class ShowerEnv(Env):\n",
    "    \n",
    "    def __init__(self):\n",
    "        \n",
    "        #Action - take,down,stay,up\n",
    "        self.action_space = Discrete(3)\n",
    "        \n",
    "        #Temperature array\n",
    "        self.observation_space = Box(low = 0, high = 100, shape = (1,))\n",
    "        \n",
    "        #set Start temperature\n",
    "        self.state = 38 + random.randint(-3,3) \n",
    "        \n",
    "        #set shower length \n",
    "        self.shower_length = 100\n",
    "        \n",
    "    def step(self, action):\n",
    "        #Apply action\n",
    "        self.state += action - 1\n",
    "        \n",
    "        #reduce shower length by 1 seconds\n",
    "        self.shower_length -= 1\n",
    "        \n",
    "        #calculate Reward\n",
    "        if self.state >= 37 and self.state <= 39:\n",
    "            reward = 1\n",
    "        else:\n",
    "            reward = -1\n",
    "            \n",
    "        #check if shower is done\n",
    "        if self.shower_length <= 0:\n",
    "            done = True\n",
    "        else:\n",
    "            done = False\n",
    "            \n",
    "        info = {}\n",
    "        \n",
    "        return self.state, reward, done, info\n",
    "    \n",
    "    def render(self):\n",
    "        pass\n",
    "    \n",
    "    def reset(self):\n",
    "        \n",
    "        #reset shower temperature\n",
    "        self.state = np.array([38 + random.randint(-3,3)]).astype(float)\n",
    "        \n",
    "        #reset shower time\n",
    "        self.shower_length = 60\n",
    "        \n",
    "        return self.state"
   ]
  },
  {
   "cell_type": "code",
   "execution_count": 38,
   "id": "4401c158",
   "metadata": {},
   "outputs": [],
   "source": [
    "env = ShowerEnv()"
   ]
  },
  {
   "cell_type": "code",
   "execution_count": 41,
   "id": "39472114",
   "metadata": {},
   "outputs": [
    {
     "data": {
      "text/plain": [
       "array([55.745857], dtype=float32)"
      ]
     },
     "execution_count": 41,
     "metadata": {},
     "output_type": "execute_result"
    }
   ],
   "source": [
    "env.observation_space.sample()"
   ]
  },
  {
   "cell_type": "code",
   "execution_count": 42,
   "id": "1fb4ab40",
   "metadata": {},
   "outputs": [
    {
     "data": {
      "text/plain": [
       "array([35.])"
      ]
     },
     "execution_count": 42,
     "metadata": {},
     "output_type": "execute_result"
    }
   ],
   "source": [
    "env.reset()"
   ]
  },
  {
   "cell_type": "code",
   "execution_count": 43,
   "id": "ac6bd3a9",
   "metadata": {},
   "outputs": [],
   "source": [
    "from stable_baselines3.common.env_checker import check_env"
   ]
  },
  {
   "cell_type": "code",
   "execution_count": 45,
   "id": "ebb3b3b6",
   "metadata": {},
   "outputs": [],
   "source": [
    "check_env(env,warn = True)"
   ]
  },
  {
   "cell_type": "markdown",
   "id": "5f8e7254",
   "metadata": {},
   "source": [
    "# Test Environment"
   ]
  },
  {
   "cell_type": "code",
   "execution_count": 46,
   "id": "445e6d84",
   "metadata": {},
   "outputs": [
    {
     "name": "stdout",
     "output_type": "stream",
     "text": [
      "Episodes:1 Score:-34\n",
      "Episodes:2 Score:4\n",
      "Episodes:3 Score:-14\n",
      "Episodes:4 Score:22\n",
      "Episodes:5 Score:-60\n"
     ]
    }
   ],
   "source": [
    "episodes = 5\n",
    "\n",
    "for ep in range(1, episodes+1):\n",
    "    state = env.reset()\n",
    "    done = False\n",
    "    score = 0\n",
    "    \n",
    "    while not done:\n",
    "        env.render()\n",
    "        action = env.action_space.sample()\n",
    "        n_state,reward,done,info = env.step(action)\n",
    "        score += reward\n",
    "    print(f\"Episodes:{ep} Score:{score}\")\n",
    "    \n",
    "env.close()"
   ]
  },
  {
   "cell_type": "markdown",
   "id": "68df5f72",
   "metadata": {},
   "source": [
    "# Train Model"
   ]
  },
  {
   "cell_type": "code",
   "execution_count": 47,
   "id": "40138161",
   "metadata": {},
   "outputs": [],
   "source": [
    "log_path = os.path.join(\"Training model\", \"logs\",\"Custom env log\")\n"
   ]
  },
  {
   "cell_type": "code",
   "execution_count": 49,
   "id": "b6de13a4",
   "metadata": {},
   "outputs": [
    {
     "name": "stdout",
     "output_type": "stream",
     "text": [
      "Using cpu device\n",
      "Wrapping the env with a `Monitor` wrapper\n",
      "Wrapping the env in a DummyVecEnv.\n"
     ]
    }
   ],
   "source": [
    "model = PPO(\"MlpPolicy\", env, verbose = 1, tensorboard_log = log_path)"
   ]
  },
  {
   "cell_type": "code",
   "execution_count": 50,
   "id": "ab7034c8",
   "metadata": {},
   "outputs": [
    {
     "name": "stderr",
     "output_type": "stream",
     "text": [
      "2021-12-25 02:20:44.718520: W tensorflow/stream_executor/platform/default/dso_loader.cc:64] Could not load dynamic library 'libcudart.so.11.0'; dlerror: libcudart.so.11.0: cannot open shared object file: No such file or directory; LD_LIBRARY_PATH: /home/robin/anaconda3/envs/robin/lib/python3.7/site-packages/cv2/../../lib64:\n",
      "2021-12-25 02:20:44.718592: I tensorflow/stream_executor/cuda/cudart_stub.cc:29] Ignore above cudart dlerror if you do not have a GPU set up on your machine.\n"
     ]
    },
    {
     "name": "stdout",
     "output_type": "stream",
     "text": [
      "Logging to Training model/logs/Custom env log/PPO_1\n",
      "---------------------------------\n",
      "| rollout/           |          |\n",
      "|    ep_len_mean     | 60       |\n",
      "|    ep_rew_mean     | -27.8    |\n",
      "| time/              |          |\n",
      "|    fps             | 92       |\n",
      "|    iterations      | 1        |\n",
      "|    time_elapsed    | 22       |\n",
      "|    total_timesteps | 2048     |\n",
      "---------------------------------\n",
      "-----------------------------------------\n",
      "| rollout/                |             |\n",
      "|    ep_len_mean          | 60          |\n",
      "|    ep_rew_mean          | -30         |\n",
      "| time/                   |             |\n",
      "|    fps                  | 162         |\n",
      "|    iterations           | 2           |\n",
      "|    time_elapsed         | 25          |\n",
      "|    total_timesteps      | 4096        |\n",
      "| train/                  |             |\n",
      "|    approx_kl            | 0.008680293 |\n",
      "|    clip_fraction        | 0.0227      |\n",
      "|    clip_range           | 0.2         |\n",
      "|    entropy_loss         | -1.09       |\n",
      "|    explained_variance   | 0.00033     |\n",
      "|    learning_rate        | 0.0003      |\n",
      "|    loss                 | 19.3        |\n",
      "|    n_updates            | 10          |\n",
      "|    policy_gradient_loss | -0.0017     |\n",
      "|    value_loss           | 45.1        |\n",
      "-----------------------------------------\n",
      "-----------------------------------------\n",
      "| rollout/                |             |\n",
      "|    ep_len_mean          | 60          |\n",
      "|    ep_rew_mean          | -29.1       |\n",
      "| time/                   |             |\n",
      "|    fps                  | 217         |\n",
      "|    iterations           | 3           |\n",
      "|    time_elapsed         | 28          |\n",
      "|    total_timesteps      | 6144        |\n",
      "| train/                  |             |\n",
      "|    approx_kl            | 0.012910536 |\n",
      "|    clip_fraction        | 0.0412      |\n",
      "|    clip_range           | 0.2         |\n",
      "|    entropy_loss         | -1.09       |\n",
      "|    explained_variance   | 0.000935    |\n",
      "|    learning_rate        | 0.0003      |\n",
      "|    loss                 | 30.7        |\n",
      "|    n_updates            | 20          |\n",
      "|    policy_gradient_loss | -0.00402    |\n",
      "|    value_loss           | 70          |\n",
      "-----------------------------------------\n",
      "-----------------------------------------\n",
      "| rollout/                |             |\n",
      "|    ep_len_mean          | 60          |\n",
      "|    ep_rew_mean          | -28.1       |\n",
      "| time/                   |             |\n",
      "|    fps                  | 261         |\n",
      "|    iterations           | 4           |\n",
      "|    time_elapsed         | 31          |\n",
      "|    total_timesteps      | 8192        |\n",
      "| train/                  |             |\n",
      "|    approx_kl            | 0.011555288 |\n",
      "|    clip_fraction        | 0.0404      |\n",
      "|    clip_range           | 0.2         |\n",
      "|    entropy_loss         | -1.08       |\n",
      "|    explained_variance   | -0.000599   |\n",
      "|    learning_rate        | 0.0003      |\n",
      "|    loss                 | 35.3        |\n",
      "|    n_updates            | 30          |\n",
      "|    policy_gradient_loss | -0.00154    |\n",
      "|    value_loss           | 64.2        |\n",
      "-----------------------------------------\n",
      "-----------------------------------------\n",
      "| rollout/                |             |\n",
      "|    ep_len_mean          | 60          |\n",
      "|    ep_rew_mean          | -24.2       |\n",
      "| time/                   |             |\n",
      "|    fps                  | 296         |\n",
      "|    iterations           | 5           |\n",
      "|    time_elapsed         | 34          |\n",
      "|    total_timesteps      | 10240       |\n",
      "| train/                  |             |\n",
      "|    approx_kl            | 0.009494165 |\n",
      "|    clip_fraction        | 0.0794      |\n",
      "|    clip_range           | 0.2         |\n",
      "|    entropy_loss         | -1.04       |\n",
      "|    explained_variance   | 0.000214    |\n",
      "|    learning_rate        | 0.0003      |\n",
      "|    loss                 | 37.2        |\n",
      "|    n_updates            | 40          |\n",
      "|    policy_gradient_loss | -0.00612    |\n",
      "|    value_loss           | 68.3        |\n",
      "-----------------------------------------\n",
      "-----------------------------------------\n",
      "| rollout/                |             |\n",
      "|    ep_len_mean          | 60          |\n",
      "|    ep_rew_mean          | -25.9       |\n",
      "| time/                   |             |\n",
      "|    fps                  | 326         |\n",
      "|    iterations           | 6           |\n",
      "|    time_elapsed         | 37          |\n",
      "|    total_timesteps      | 12288       |\n",
      "| train/                  |             |\n",
      "|    approx_kl            | 0.007515575 |\n",
      "|    clip_fraction        | 0.0568      |\n",
      "|    clip_range           | 0.2         |\n",
      "|    entropy_loss         | -1.07       |\n",
      "|    explained_variance   | -0.00115    |\n",
      "|    learning_rate        | 0.0003      |\n",
      "|    loss                 | 38.4        |\n",
      "|    n_updates            | 50          |\n",
      "|    policy_gradient_loss | -0.00437    |\n",
      "|    value_loss           | 77.2        |\n",
      "-----------------------------------------\n",
      "-----------------------------------------\n",
      "| rollout/                |             |\n",
      "|    ep_len_mean          | 60          |\n",
      "|    ep_rew_mean          | -27.6       |\n",
      "| time/                   |             |\n",
      "|    fps                  | 353         |\n",
      "|    iterations           | 7           |\n",
      "|    time_elapsed         | 40          |\n",
      "|    total_timesteps      | 14336       |\n",
      "| train/                  |             |\n",
      "|    approx_kl            | 0.012593442 |\n",
      "|    clip_fraction        | 0.0948      |\n",
      "|    clip_range           | 0.2         |\n",
      "|    entropy_loss         | -1.08       |\n",
      "|    explained_variance   | -0.00112    |\n",
      "|    learning_rate        | 0.0003      |\n",
      "|    loss                 | 28.9        |\n",
      "|    n_updates            | 60          |\n",
      "|    policy_gradient_loss | -0.00709    |\n",
      "|    value_loss           | 63          |\n",
      "-----------------------------------------\n",
      "-----------------------------------------\n",
      "| rollout/                |             |\n",
      "|    ep_len_mean          | 60          |\n",
      "|    ep_rew_mean          | -29         |\n",
      "| time/                   |             |\n",
      "|    fps                  | 378         |\n",
      "|    iterations           | 8           |\n",
      "|    time_elapsed         | 43          |\n",
      "|    total_timesteps      | 16384       |\n",
      "| train/                  |             |\n",
      "|    approx_kl            | 0.008638385 |\n",
      "|    clip_fraction        | 0.05        |\n",
      "|    clip_range           | 0.2         |\n",
      "|    entropy_loss         | -1.08       |\n",
      "|    explained_variance   | 8.29e-05    |\n",
      "|    learning_rate        | 0.0003      |\n",
      "|    loss                 | 46.9        |\n",
      "|    n_updates            | 70          |\n",
      "|    policy_gradient_loss | -0.0029     |\n",
      "|    value_loss           | 94.8        |\n",
      "-----------------------------------------\n",
      "-----------------------------------------\n",
      "| rollout/                |             |\n",
      "|    ep_len_mean          | 60          |\n",
      "|    ep_rew_mean          | -26.8       |\n",
      "| time/                   |             |\n",
      "|    fps                  | 399         |\n",
      "|    iterations           | 9           |\n",
      "|    time_elapsed         | 46          |\n",
      "|    total_timesteps      | 18432       |\n",
      "| train/                  |             |\n",
      "|    approx_kl            | 0.008604564 |\n",
      "|    clip_fraction        | 0.0569      |\n",
      "|    clip_range           | 0.2         |\n",
      "|    entropy_loss         | -1.07       |\n",
      "|    explained_variance   | -0.00032    |\n",
      "|    learning_rate        | 0.0003      |\n",
      "|    loss                 | 39.9        |\n",
      "|    n_updates            | 80          |\n",
      "|    policy_gradient_loss | -0.00415    |\n",
      "|    value_loss           | 76.4        |\n",
      "-----------------------------------------\n",
      "-------------------------------------------\n",
      "| rollout/                |               |\n",
      "|    ep_len_mean          | 60            |\n",
      "|    ep_rew_mean          | -25.9         |\n",
      "| time/                   |               |\n",
      "|    fps                  | 412           |\n",
      "|    iterations           | 10            |\n",
      "|    time_elapsed         | 49            |\n",
      "|    total_timesteps      | 20480         |\n",
      "| train/                  |               |\n",
      "|    approx_kl            | 0.00046930744 |\n",
      "|    clip_fraction        | 0.0189        |\n",
      "|    clip_range           | 0.2           |\n",
      "|    entropy_loss         | -1.05         |\n",
      "|    explained_variance   | -4.41e-06     |\n",
      "|    learning_rate        | 0.0003        |\n",
      "|    loss                 | 50.9          |\n",
      "|    n_updates            | 90            |\n",
      "|    policy_gradient_loss | -5.25e-05     |\n",
      "|    value_loss           | 77.5          |\n",
      "-------------------------------------------\n"
     ]
    },
    {
     "name": "stdout",
     "output_type": "stream",
     "text": [
      "-----------------------------------------\n",
      "| rollout/                |             |\n",
      "|    ep_len_mean          | 60          |\n",
      "|    ep_rew_mean          | -26.6       |\n",
      "| time/                   |             |\n",
      "|    fps                  | 427         |\n",
      "|    iterations           | 11          |\n",
      "|    time_elapsed         | 52          |\n",
      "|    total_timesteps      | 22528       |\n",
      "| train/                  |             |\n",
      "|    approx_kl            | 0.008283811 |\n",
      "|    clip_fraction        | 0.128       |\n",
      "|    clip_range           | 0.2         |\n",
      "|    entropy_loss         | -1.06       |\n",
      "|    explained_variance   | 0.00027     |\n",
      "|    learning_rate        | 0.0003      |\n",
      "|    loss                 | 33          |\n",
      "|    n_updates            | 100         |\n",
      "|    policy_gradient_loss | -0.0109     |\n",
      "|    value_loss           | 67.4        |\n",
      "-----------------------------------------\n",
      "-----------------------------------------\n",
      "| rollout/                |             |\n",
      "|    ep_len_mean          | 60          |\n",
      "|    ep_rew_mean          | -25.8       |\n",
      "| time/                   |             |\n",
      "|    fps                  | 441         |\n",
      "|    iterations           | 12          |\n",
      "|    time_elapsed         | 55          |\n",
      "|    total_timesteps      | 24576       |\n",
      "| train/                  |             |\n",
      "|    approx_kl            | 0.009672714 |\n",
      "|    clip_fraction        | 0.0563      |\n",
      "|    clip_range           | 0.2         |\n",
      "|    entropy_loss         | -1.03       |\n",
      "|    explained_variance   | -0.00115    |\n",
      "|    learning_rate        | 0.0003      |\n",
      "|    loss                 | 40.3        |\n",
      "|    n_updates            | 110         |\n",
      "|    policy_gradient_loss | -0.00312    |\n",
      "|    value_loss           | 86.7        |\n",
      "-----------------------------------------\n",
      "-----------------------------------------\n",
      "| rollout/                |             |\n",
      "|    ep_len_mean          | 60          |\n",
      "|    ep_rew_mean          | -22.9       |\n",
      "| time/                   |             |\n",
      "|    fps                  | 456         |\n",
      "|    iterations           | 13          |\n",
      "|    time_elapsed         | 58          |\n",
      "|    total_timesteps      | 26624       |\n",
      "| train/                  |             |\n",
      "|    approx_kl            | 0.006085855 |\n",
      "|    clip_fraction        | 0.063       |\n",
      "|    clip_range           | 0.2         |\n",
      "|    entropy_loss         | -0.996      |\n",
      "|    explained_variance   | -0.000817   |\n",
      "|    learning_rate        | 0.0003      |\n",
      "|    loss                 | 41.5        |\n",
      "|    n_updates            | 120         |\n",
      "|    policy_gradient_loss | -0.00499    |\n",
      "|    value_loss           | 79.5        |\n",
      "-----------------------------------------\n",
      "-----------------------------------------\n",
      "| rollout/                |             |\n",
      "|    ep_len_mean          | 60          |\n",
      "|    ep_rew_mean          | -20.8       |\n",
      "| time/                   |             |\n",
      "|    fps                  | 470         |\n",
      "|    iterations           | 14          |\n",
      "|    time_elapsed         | 60          |\n",
      "|    total_timesteps      | 28672       |\n",
      "| train/                  |             |\n",
      "|    approx_kl            | 0.003548056 |\n",
      "|    clip_fraction        | 0.0134      |\n",
      "|    clip_range           | 0.2         |\n",
      "|    entropy_loss         | -1.03       |\n",
      "|    explained_variance   | -0.000413   |\n",
      "|    learning_rate        | 0.0003      |\n",
      "|    loss                 | 35.4        |\n",
      "|    n_updates            | 130         |\n",
      "|    policy_gradient_loss | -0.000914   |\n",
      "|    value_loss           | 76.1        |\n",
      "-----------------------------------------\n",
      "------------------------------------------\n",
      "| rollout/                |              |\n",
      "|    ep_len_mean          | 60           |\n",
      "|    ep_rew_mean          | -22.4        |\n",
      "| time/                   |              |\n",
      "|    fps                  | 482          |\n",
      "|    iterations           | 15           |\n",
      "|    time_elapsed         | 63           |\n",
      "|    total_timesteps      | 30720        |\n",
      "| train/                  |              |\n",
      "|    approx_kl            | 0.0019051078 |\n",
      "|    clip_fraction        | 0.0589       |\n",
      "|    clip_range           | 0.2          |\n",
      "|    entropy_loss         | -1.02        |\n",
      "|    explained_variance   | 5.13e-05     |\n",
      "|    learning_rate        | 0.0003       |\n",
      "|    loss                 | 49.9         |\n",
      "|    n_updates            | 140          |\n",
      "|    policy_gradient_loss | -0.0019      |\n",
      "|    value_loss           | 89.5         |\n",
      "------------------------------------------\n",
      "-----------------------------------------\n",
      "| rollout/                |             |\n",
      "|    ep_len_mean          | 60          |\n",
      "|    ep_rew_mean          | -20.1       |\n",
      "| time/                   |             |\n",
      "|    fps                  | 491         |\n",
      "|    iterations           | 16          |\n",
      "|    time_elapsed         | 66          |\n",
      "|    total_timesteps      | 32768       |\n",
      "| train/                  |             |\n",
      "|    approx_kl            | 0.008604832 |\n",
      "|    clip_fraction        | 0.0796      |\n",
      "|    clip_range           | 0.2         |\n",
      "|    entropy_loss         | -0.987      |\n",
      "|    explained_variance   | -0.000381   |\n",
      "|    learning_rate        | 0.0003      |\n",
      "|    loss                 | 31.2        |\n",
      "|    n_updates            | 150         |\n",
      "|    policy_gradient_loss | -0.00653    |\n",
      "|    value_loss           | 60.4        |\n",
      "-----------------------------------------\n",
      "-----------------------------------------\n",
      "| rollout/                |             |\n",
      "|    ep_len_mean          | 60          |\n",
      "|    ep_rew_mean          | -20.8       |\n",
      "| time/                   |             |\n",
      "|    fps                  | 491         |\n",
      "|    iterations           | 17          |\n",
      "|    time_elapsed         | 70          |\n",
      "|    total_timesteps      | 34816       |\n",
      "| train/                  |             |\n",
      "|    approx_kl            | 0.014234287 |\n",
      "|    clip_fraction        | 0.0433      |\n",
      "|    clip_range           | 0.2         |\n",
      "|    entropy_loss         | -0.913      |\n",
      "|    explained_variance   | 0.00249     |\n",
      "|    learning_rate        | 0.0003      |\n",
      "|    loss                 | 35.7        |\n",
      "|    n_updates            | 160         |\n",
      "|    policy_gradient_loss | -0.00435    |\n",
      "|    value_loss           | 72.2        |\n",
      "-----------------------------------------\n",
      "------------------------------------------\n",
      "| rollout/                |              |\n",
      "|    ep_len_mean          | 60           |\n",
      "|    ep_rew_mean          | -14.3        |\n",
      "| time/                   |              |\n",
      "|    fps                  | 497          |\n",
      "|    iterations           | 18           |\n",
      "|    time_elapsed         | 74           |\n",
      "|    total_timesteps      | 36864        |\n",
      "| train/                  |              |\n",
      "|    approx_kl            | 0.0066599865 |\n",
      "|    clip_fraction        | 0.0226       |\n",
      "|    clip_range           | 0.2          |\n",
      "|    entropy_loss         | -0.847       |\n",
      "|    explained_variance   | 0.00402      |\n",
      "|    learning_rate        | 0.0003       |\n",
      "|    loss                 | 37           |\n",
      "|    n_updates            | 170          |\n",
      "|    policy_gradient_loss | -0.00112     |\n",
      "|    value_loss           | 87.2         |\n",
      "------------------------------------------\n",
      "------------------------------------------\n",
      "| rollout/                |              |\n",
      "|    ep_len_mean          | 60           |\n",
      "|    ep_rew_mean          | -15.3        |\n",
      "| time/                   |              |\n",
      "|    fps                  | 503          |\n",
      "|    iterations           | 19           |\n",
      "|    time_elapsed         | 77           |\n",
      "|    total_timesteps      | 38912        |\n",
      "| train/                  |              |\n",
      "|    approx_kl            | 0.0034273518 |\n",
      "|    clip_fraction        | 0.0173       |\n",
      "|    clip_range           | 0.2          |\n",
      "|    entropy_loss         | -0.814       |\n",
      "|    explained_variance   | -0.00344     |\n",
      "|    learning_rate        | 0.0003       |\n",
      "|    loss                 | 48.3         |\n",
      "|    n_updates            | 180          |\n",
      "|    policy_gradient_loss | -2.19e-06    |\n",
      "|    value_loss           | 85.6         |\n",
      "------------------------------------------\n",
      "-----------------------------------------\n",
      "| rollout/                |             |\n",
      "|    ep_len_mean          | 60          |\n",
      "|    ep_rew_mean          | -22.3       |\n",
      "| time/                   |             |\n",
      "|    fps                  | 508         |\n",
      "|    iterations           | 20          |\n",
      "|    time_elapsed         | 80          |\n",
      "|    total_timesteps      | 40960       |\n",
      "| train/                  |             |\n",
      "|    approx_kl            | 0.004492162 |\n",
      "|    clip_fraction        | 0.0373      |\n",
      "|    clip_range           | 0.2         |\n",
      "|    entropy_loss         | -0.772      |\n",
      "|    explained_variance   | 0.000754    |\n",
      "|    learning_rate        | 0.0003      |\n",
      "|    loss                 | 49.8        |\n",
      "|    n_updates            | 190         |\n",
      "|    policy_gradient_loss | -0.00116    |\n",
      "|    value_loss           | 88.6        |\n",
      "-----------------------------------------\n"
     ]
    },
    {
     "name": "stdout",
     "output_type": "stream",
     "text": [
      "-----------------------------------------\n",
      "| rollout/                |             |\n",
      "|    ep_len_mean          | 60          |\n",
      "|    ep_rew_mean          | -23.7       |\n",
      "| time/                   |             |\n",
      "|    fps                  | 513         |\n",
      "|    iterations           | 21          |\n",
      "|    time_elapsed         | 83          |\n",
      "|    total_timesteps      | 43008       |\n",
      "| train/                  |             |\n",
      "|    approx_kl            | 0.005832602 |\n",
      "|    clip_fraction        | 0.0625      |\n",
      "|    clip_range           | 0.2         |\n",
      "|    entropy_loss         | -0.791      |\n",
      "|    explained_variance   | -0.00754    |\n",
      "|    learning_rate        | 0.0003      |\n",
      "|    loss                 | 33.1        |\n",
      "|    n_updates            | 200         |\n",
      "|    policy_gradient_loss | -0.00314    |\n",
      "|    value_loss           | 58.9        |\n",
      "-----------------------------------------\n",
      "-----------------------------------------\n",
      "| rollout/                |             |\n",
      "|    ep_len_mean          | 60          |\n",
      "|    ep_rew_mean          | -23.3       |\n",
      "| time/                   |             |\n",
      "|    fps                  | 517         |\n",
      "|    iterations           | 22          |\n",
      "|    time_elapsed         | 87          |\n",
      "|    total_timesteps      | 45056       |\n",
      "| train/                  |             |\n",
      "|    approx_kl            | 0.006743848 |\n",
      "|    clip_fraction        | 0.0954      |\n",
      "|    clip_range           | 0.2         |\n",
      "|    entropy_loss         | -0.81       |\n",
      "|    explained_variance   | 0.00327     |\n",
      "|    learning_rate        | 0.0003      |\n",
      "|    loss                 | 51.2        |\n",
      "|    n_updates            | 210         |\n",
      "|    policy_gradient_loss | -0.00881    |\n",
      "|    value_loss           | 94.8        |\n",
      "-----------------------------------------\n",
      "------------------------------------------\n",
      "| rollout/                |              |\n",
      "|    ep_len_mean          | 60           |\n",
      "|    ep_rew_mean          | -16.1        |\n",
      "| time/                   |              |\n",
      "|    fps                  | 521          |\n",
      "|    iterations           | 23           |\n",
      "|    time_elapsed         | 90           |\n",
      "|    total_timesteps      | 47104        |\n",
      "| train/                  |              |\n",
      "|    approx_kl            | 0.0075759646 |\n",
      "|    clip_fraction        | 0.0215       |\n",
      "|    clip_range           | 0.2          |\n",
      "|    entropy_loss         | -0.749       |\n",
      "|    explained_variance   | 0.00343      |\n",
      "|    learning_rate        | 0.0003       |\n",
      "|    loss                 | 41.8         |\n",
      "|    n_updates            | 220          |\n",
      "|    policy_gradient_loss | -0.00255     |\n",
      "|    value_loss           | 77.9         |\n",
      "------------------------------------------\n",
      "------------------------------------------\n",
      "| rollout/                |              |\n",
      "|    ep_len_mean          | 60           |\n",
      "|    ep_rew_mean          | -13.2        |\n",
      "| time/                   |              |\n",
      "|    fps                  | 525          |\n",
      "|    iterations           | 24           |\n",
      "|    time_elapsed         | 93           |\n",
      "|    total_timesteps      | 49152        |\n",
      "| train/                  |              |\n",
      "|    approx_kl            | 0.0025101556 |\n",
      "|    clip_fraction        | 0.0368       |\n",
      "|    clip_range           | 0.2          |\n",
      "|    entropy_loss         | -0.667       |\n",
      "|    explained_variance   | -0.00268     |\n",
      "|    learning_rate        | 0.0003       |\n",
      "|    loss                 | 38.8         |\n",
      "|    n_updates            | 230          |\n",
      "|    policy_gradient_loss | -0.00143     |\n",
      "|    value_loss           | 82.5         |\n",
      "------------------------------------------\n",
      "------------------------------------------\n",
      "| rollout/                |              |\n",
      "|    ep_len_mean          | 60           |\n",
      "|    ep_rew_mean          | -11.1        |\n",
      "| time/                   |              |\n",
      "|    fps                  | 527          |\n",
      "|    iterations           | 25           |\n",
      "|    time_elapsed         | 97           |\n",
      "|    total_timesteps      | 51200        |\n",
      "| train/                  |              |\n",
      "|    approx_kl            | 0.0028566378 |\n",
      "|    clip_fraction        | 0.0496       |\n",
      "|    clip_range           | 0.2          |\n",
      "|    entropy_loss         | -0.641       |\n",
      "|    explained_variance   | 0.00366      |\n",
      "|    learning_rate        | 0.0003       |\n",
      "|    loss                 | 48           |\n",
      "|    n_updates            | 240          |\n",
      "|    policy_gradient_loss | -0.00271     |\n",
      "|    value_loss           | 93.1         |\n",
      "------------------------------------------\n"
     ]
    },
    {
     "data": {
      "text/plain": [
       "<stable_baselines3.ppo.ppo.PPO at 0x7f8c228edd10>"
      ]
     },
     "execution_count": 50,
     "metadata": {},
     "output_type": "execute_result"
    }
   ],
   "source": [
    "model.learn(total_timesteps = 50000)"
   ]
  },
  {
   "cell_type": "markdown",
   "id": "f0fca4e6",
   "metadata": {},
   "source": [
    "# Save Model"
   ]
  },
  {
   "cell_type": "code",
   "execution_count": 51,
   "id": "55748cf5",
   "metadata": {},
   "outputs": [],
   "source": [
    "save_path = os.path.join(\"Training model\",\"save model\",\"Shower model\")"
   ]
  },
  {
   "cell_type": "code",
   "execution_count": 52,
   "id": "8983af88",
   "metadata": {},
   "outputs": [],
   "source": [
    "model.save(save_path)"
   ]
  },
  {
   "cell_type": "markdown",
   "id": "d4d94549",
   "metadata": {},
   "source": [
    "# Evaluate model"
   ]
  },
  {
   "cell_type": "code",
   "execution_count": 57,
   "id": "e499e2f1",
   "metadata": {},
   "outputs": [
    {
     "data": {
      "text/plain": [
       "(-12.0, 58.787753826796276)"
      ]
     },
     "execution_count": 57,
     "metadata": {},
     "output_type": "execute_result"
    }
   ],
   "source": [
    "evaluate_policy(model,env,n_eval_episodes = 10,render = False)"
   ]
  },
  {
   "cell_type": "code",
   "execution_count": null,
   "id": "a60e4f33",
   "metadata": {},
   "outputs": [],
   "source": []
  }
 ],
 "metadata": {
  "kernelspec": {
   "display_name": "robin",
   "language": "python",
   "name": "robin"
  },
  "language_info": {
   "codemirror_mode": {
    "name": "ipython",
    "version": 3
   },
   "file_extension": ".py",
   "mimetype": "text/x-python",
   "name": "python",
   "nbconvert_exporter": "python",
   "pygments_lexer": "ipython3",
   "version": "3.7.11"
  }
 },
 "nbformat": 4,
 "nbformat_minor": 5
}
